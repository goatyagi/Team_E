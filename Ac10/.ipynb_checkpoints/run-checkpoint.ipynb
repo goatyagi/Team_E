{
 "cells": [
  {
   "cell_type": "code",
   "execution_count": 159,
   "id": "974ae669",
   "metadata": {},
   "outputs": [
    {
     "ename": "SyntaxError",
     "evalue": "invalid syntax (count.py, line 75)",
     "output_type": "error",
     "traceback": [
      "\u001b[0;36m  File \u001b[0;32m\"/Users/gotoyagi/Lecture/Untitled Folder/count.py\"\u001b[0;36m, line \u001b[0;32m75\u001b[0m\n\u001b[0;31m    knn.predict([table.loc[\"text01.txt\"]])\u001b[0m\n\u001b[0m    ^\u001b[0m\n\u001b[0;31mSyntaxError\u001b[0m\u001b[0;31m:\u001b[0m invalid syntax\n"
     ]
    }
   ],
   "source": [
    "%run count.py"
   ]
  },
  {
   "cell_type": "code",
   "execution_count": 150,
   "id": "e0398603",
   "metadata": {},
   "outputs": [
    {
     "name": "stdout",
     "output_type": "stream",
     "text": [
      "<re.Match object; span=(0, 8), match='text.txt'>\n"
     ]
    }
   ],
   "source": []
  }
 ],
 "metadata": {
  "kernelspec": {
   "display_name": "Python 3 (ipykernel)",
   "language": "python",
   "name": "python3"
  },
  "language_info": {
   "codemirror_mode": {
    "name": "ipython",
    "version": 3
   },
   "file_extension": ".py",
   "mimetype": "text/x-python",
   "name": "python",
   "nbconvert_exporter": "python",
   "pygments_lexer": "ipython3",
   "version": "3.9.13"
  }
 },
 "nbformat": 4,
 "nbformat_minor": 5
}
